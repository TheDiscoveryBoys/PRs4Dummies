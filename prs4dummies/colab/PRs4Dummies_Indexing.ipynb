{
  "cells": [
    {
      "cell_type": "markdown",
      "metadata": {},
      "source": [
        "# 🚀 PRs4Dummies - High-Performance Indexing on Google Colab\n",
        "\n",
        "This notebook creates FAISS vector embeddings from Ansible PR data using **GPU acceleration** for fast processing.\n",
        "\n",
        "## 🎯 **What This Does:**\n",
        "- Processes scraped PR data into embeddings\n",
        "- Uses GPU for 5-10x faster processing than CPU\n",
        "- Creates a searchable vector store for RAG\n",
        "- Optimized for the `nomic-ai/nomic-embed-text-v1.5` model\n",
        "\n",
        "## ⚡ **Performance:**\n",
        "- **50 PRs**: ~2-3 minutes (vs 15+ minutes on CPU)\n",
        "- **500 PRs**: ~15-20 minutes (vs 2-3 hours on CPU)\n",
        "- **1000+ PRs**: ~30-45 minutes\n",
        "\n",
        "---\n"
      ]
    }
  ],
  "metadata": {
    "language_info": {
      "name": "python"
    }
  },
  "nbformat": 4,
  "nbformat_minor": 2
}
